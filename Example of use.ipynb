{
 "cells": [
  {
   "cell_type": "code",
   "execution_count": 1,
   "id": "0f4f1796",
   "metadata": {},
   "outputs": [],
   "source": [
    "from pathlib import Path\n",
    "from clouds2mask import (\n",
    "    create_settings,\n",
    "    batch_process_scenes,\n",
    ")"
   ]
  },
  {
   "cell_type": "code",
   "execution_count": 2,
   "id": "fb12956a",
   "metadata": {},
   "outputs": [],
   "source": [
    "output_dir = Path(\"./outputs\")"
   ]
  },
  {
   "cell_type": "code",
   "execution_count": 3,
   "id": "32f70d4a",
   "metadata": {},
   "outputs": [],
   "source": [
    "l1c_folders_path = Path(\"/path/to/your/S2_l1c_SAFE/folders\")"
   ]
  },
  {
   "cell_type": "code",
   "execution_count": 4,
   "id": "d868e4d6",
   "metadata": {},
   "outputs": [
    {
     "data": {
      "text/plain": [
       "1"
      ]
     },
     "execution_count": 4,
     "metadata": {},
     "output_type": "execute_result"
    }
   ],
   "source": [
    "l1c_folders = list(l1c_folders_path.glob(\"*.SAFE\"))\n",
    "len(list(l1c_folders))"
   ]
  },
  {
   "cell_type": "code",
   "execution_count": 5,
   "id": "2a3ca45f",
   "metadata": {},
   "outputs": [],
   "source": [
    "scene_settings = create_settings(\n",
    "    sent_safe_dirs=l1c_folders,\n",
    "    output_dir=output_dir,\n",
    "    batch_size=2,\n",
    "    processing_res=20,\n",
    ")"
   ]
  },
  {
   "cell_type": "code",
   "execution_count": 6,
   "id": "c3fac8e0",
   "metadata": {},
   "outputs": [
    {
     "data": {
      "application/vnd.jupyter.widget-view+json": {
       "model_id": "d71edd2a09cf4b479d240e58039bc135",
       "version_major": 2,
       "version_minor": 0
      },
      "text/plain": [
       "Batch progress:   0%|          | 0/1 [00:00<?, ?scenes/s]"
      ]
     },
     "metadata": {},
     "output_type": "display_data"
    },
    {
     "data": {
      "application/vnd.jupyter.widget-view+json": {
       "model_id": "1c8468b8dff94934beb72e7dc817e952",
       "version_major": 2,
       "version_minor": 0
      },
      "text/plain": [
       "  0%|          00:00"
      ]
     },
     "metadata": {},
     "output_type": "display_data"
    }
   ],
   "source": [
    "paths_to_masks = batch_process_scenes(scene_settings)"
   ]
  },
  {
   "cell_type": "code",
   "execution_count": null,
   "id": "10ee72d7",
   "metadata": {},
   "outputs": [],
   "source": []
  }
 ],
 "metadata": {
  "kernelspec": {
   "display_name": "Python 3 (ipykernel)",
   "language": "python",
   "name": "python3"
  },
  "language_info": {
   "codemirror_mode": {
    "name": "ipython",
    "version": 3
   },
   "file_extension": ".py",
   "mimetype": "text/x-python",
   "name": "python",
   "nbconvert_exporter": "python",
   "pygments_lexer": "ipython3",
   "version": "3.8.16"
  },
  "vscode": {
   "interpreter": {
    "hash": "0f32f76ea1ef6ea3692c1c5916178c139cea48b6203853c9177a55584d4a3da5"
   }
  }
 },
 "nbformat": 4,
 "nbformat_minor": 5
}
