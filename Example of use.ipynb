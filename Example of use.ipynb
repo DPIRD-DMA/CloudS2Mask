{
 "cells": [
  {
   "cell_type": "code",
   "execution_count": 1,
   "id": "0f4f1796",
   "metadata": {},
   "outputs": [],
   "source": [
    "from pathlib import Path\n",
    "from clouds2mask import (\n",
    "    create_settings,\n",
    "    batch_process_scenes,\n",
    ")"
   ]
  },
  {
   "cell_type": "code",
   "execution_count": 2,
   "id": "fb12956a",
   "metadata": {},
   "outputs": [],
   "source": [
    "output_dir = Path(\"./outputs\")"
   ]
  },
  {
   "cell_type": "code",
   "execution_count": 3,
   "id": "32f70d4a",
   "metadata": {},
   "outputs": [
    {
     "data": {
      "text/plain": [
       "6"
      ]
     },
     "execution_count": 3,
     "metadata": {},
     "output_type": "execute_result"
    }
   ],
   "source": [
    "l1c_folders_path = Path(\n",
    "    # \"/path/to/your/S2_l1c_SAFE/folders\"\n",
    "    \"/Users/Nick/Desktop/c2mtest\"\n",
    ")\n",
    "l1c_folders = list(l1c_folders_path.glob(\"*.SAFE\"))\n",
    "len(list(l1c_folders))"
   ]
  },
  {
   "cell_type": "code",
   "execution_count": 5,
   "id": "2a3ca45f",
   "metadata": {},
   "outputs": [],
   "source": [
    "scene_settings = create_settings(\n",
    "    sent_safe_dirs=l1c_folders,\n",
    "    output_dir=output_dir,\n",
    "    batch_size=2,\n",
    "    processing_res=20,\n",
    ")"
   ]
  },
  {
   "cell_type": "code",
   "execution_count": 9,
   "id": "c3fac8e0",
   "metadata": {},
   "outputs": [
    {
     "data": {
      "application/vnd.jupyter.widget-view+json": {
       "model_id": "1491b888d3574fe9aacb4e2b8244f4f7",
       "version_major": 2,
       "version_minor": 0
      },
      "text/plain": [
       "Batch progress:   0%|          | 0/6 [00:00<?, ?scenes/s]"
      ]
     },
     "metadata": {},
     "output_type": "display_data"
    },
    {
     "data": {
      "application/vnd.jupyter.widget-view+json": {
       "model_id": "6e4e8d49ea21454594cc281e456d24d5",
       "version_major": 2,
       "version_minor": 0
      },
      "text/plain": [
       "  0%|          00:00"
      ]
     },
     "metadata": {},
     "output_type": "display_data"
    },
    {
     "data": {
      "application/vnd.jupyter.widget-view+json": {
       "model_id": "aa3be91faaad4df3a5a2e016bf3522eb",
       "version_major": 2,
       "version_minor": 0
      },
      "text/plain": [
       "  0%|          00:00"
      ]
     },
     "metadata": {},
     "output_type": "display_data"
    },
    {
     "data": {
      "application/vnd.jupyter.widget-view+json": {
       "model_id": "9272f3402b8c418581b2f95a35037fe9",
       "version_major": 2,
       "version_minor": 0
      },
      "text/plain": [
       "  0%|          00:00"
      ]
     },
     "metadata": {},
     "output_type": "display_data"
    },
    {
     "data": {
      "application/vnd.jupyter.widget-view+json": {
       "model_id": "8f9554e80d84426ba9214b0411621d55",
       "version_major": 2,
       "version_minor": 0
      },
      "text/plain": [
       "  0%|          00:00"
      ]
     },
     "metadata": {},
     "output_type": "display_data"
    },
    {
     "data": {
      "application/vnd.jupyter.widget-view+json": {
       "model_id": "20825d4f96e247f9990c2620ff748ac4",
       "version_major": 2,
       "version_minor": 0
      },
      "text/plain": [
       "  0%|          00:00"
      ]
     },
     "metadata": {},
     "output_type": "display_data"
    },
    {
     "data": {
      "application/vnd.jupyter.widget-view+json": {
       "model_id": "340fb5ec98024599b306675082a9b9f4",
       "version_major": 2,
       "version_minor": 0
      },
      "text/plain": [
       "  0%|          00:00"
      ]
     },
     "metadata": {},
     "output_type": "display_data"
    }
   ],
   "source": [
    "paths_to_masks = batch_process_scenes(scene_settings)"
   ]
  },
  {
   "cell_type": "code",
   "execution_count": null,
   "id": "c0dc2cc1",
   "metadata": {},
   "outputs": [],
   "source": [
    "# settings for high accuracy GPU inference\n",
    "scene_settings = create_settings(\n",
    "    sent_safe_dirs=l1c_folders,\n",
    "    output_dir=output_dir,\n",
    "    batch_size=32,\n",
    "    tta_max_depth=7,\n",
    "    processing_res=10,\n",
    "    model_ensembling=True,\n",
    "    pytorch_device=\"cuda:0\",\n",
    ")"
   ]
  },
  {
   "cell_type": "code",
   "execution_count": null,
   "id": "8e4a1b23",
   "metadata": {},
   "outputs": [],
   "source": [
    "# settings for fast GPU inference\n",
    "scene_settings = create_settings(\n",
    "    sent_safe_dirs=l1c_folders,\n",
    "    output_dir=output_dir,\n",
    "    batch_size=32,\n",
    "    processing_res=20,\n",
    "    output_compression=None,\n",
    ")"
   ]
  }
 ],
 "metadata": {
  "kernelspec": {
   "display_name": "Python 3 (ipykernel)",
   "language": "python",
   "name": "python3"
  },
  "language_info": {
   "codemirror_mode": {
    "name": "ipython",
    "version": 3
   },
   "file_extension": ".py",
   "mimetype": "text/x-python",
   "name": "python",
   "nbconvert_exporter": "python",
   "pygments_lexer": "ipython3",
   "version": "3.8.16"
  },
  "vscode": {
   "interpreter": {
    "hash": "0f32f76ea1ef6ea3692c1c5916178c139cea48b6203853c9177a55584d4a3da5"
   }
  }
 },
 "nbformat": 4,
 "nbformat_minor": 5
}
