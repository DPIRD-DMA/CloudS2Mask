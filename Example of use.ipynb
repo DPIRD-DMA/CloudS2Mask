{
 "cells": [
  {
   "cell_type": "code",
   "execution_count": null,
   "id": "0f4f1796",
   "metadata": {},
   "outputs": [],
   "source": [
    "from pathlib import Path\n",
    "from clouds2mask import (\n",
    "    create_settings,\n",
    "    batch_process_scenes,\n",
    ")"
   ]
  },
  {
   "cell_type": "code",
   "execution_count": null,
   "id": "fb12956a",
   "metadata": {},
   "outputs": [],
   "source": [
    "output_dir = Path(\"./outputs\")"
   ]
  },
  {
   "cell_type": "code",
   "execution_count": null,
   "id": "32f70d4a",
   "metadata": {},
   "outputs": [],
   "source": [
    "l1c_folders_path = Path(\"/path/to/your/S2_l1c_SAFE/folders\")"
   ]
  },
  {
   "cell_type": "code",
   "execution_count": null,
   "id": "d868e4d6",
   "metadata": {},
   "outputs": [],
   "source": [
    "l1c_folders = list(l1c_folders_path.glob(\"*.SAFE\"))[:1]\n",
    "len(list(l1c_folders))"
   ]
  },
  {
   "cell_type": "code",
   "execution_count": null,
   "id": "2a3ca45f",
   "metadata": {},
   "outputs": [],
   "source": [
    "scene_settings = create_settings(\n",
    "    sent_safe_dirs=l1c_folders,\n",
    "    output_dir=output_dir,\n",
    "    batch_size=32,\n",
    "    processing_res=10,\n",
    ")"
   ]
  },
  {
   "cell_type": "code",
   "execution_count": null,
   "id": "c3fac8e0",
   "metadata": {},
   "outputs": [],
   "source": [
    "paths_to_masks = batch_process_scenes(scene_settings)"
   ]
  }
 ],
 "metadata": {
  "kernelspec": {
   "display_name": "Python 3 (ipykernel)",
   "language": "python",
   "name": "python3"
  },
  "language_info": {
   "codemirror_mode": {
    "name": "ipython",
    "version": 3
   },
   "file_extension": ".py",
   "mimetype": "text/x-python",
   "name": "python",
   "nbconvert_exporter": "python",
   "pygments_lexer": "ipython3",
   "version": "3.8.16"
  },
  "vscode": {
   "interpreter": {
    "hash": "0f32f76ea1ef6ea3692c1c5916178c139cea48b6203853c9177a55584d4a3da5"
   }
  }
 },
 "nbformat": 4,
 "nbformat_minor": 5
}
